{
 "cells": [
  {
   "cell_type": "code",
   "execution_count": 1,
   "metadata": {
    "colab": {
     "base_uri": "https://localhost:8080/",
     "height": 70
    },
    "colab_type": "code",
    "id": "oUqSlYHu7Q2Z",
    "outputId": "31af86d1-b79d-44ae-cfa3-67b69924417b"
   },
   "outputs": [
    {
     "name": "stderr",
     "output_type": "stream",
     "text": [
      "/usr/local/lib/python3.6/dist-packages/statsmodels/tools/_testing.py:19: FutureWarning: pandas.util.testing is deprecated. Use the functions in the public API at pandas.testing instead.\n",
      "  import pandas.util.testing as tm\n"
     ]
    }
   ],
   "source": [
    "import pandas as pd\n",
    "import numpy as np\n",
    "import seaborn as sns\n",
    "import matplotlib.pyplot as plt"
   ]
  },
  {
   "cell_type": "code",
   "execution_count": 2,
   "metadata": {
    "colab": {
     "base_uri": "https://localhost:8080/",
     "height": 70
    },
    "colab_type": "code",
    "id": "I1MOe5En7ad6",
    "outputId": "4f23ece3-92ef-4547-8cfa-4a79b8af761b"
   },
   "outputs": [
    {
     "name": "stderr",
     "output_type": "stream",
     "text": [
      "/usr/local/lib/python3.6/dist-packages/IPython/core/interactiveshell.py:2718: DtypeWarning: Columns (7,8) have mixed types.Specify dtype option on import or set low_memory=False.\n",
      "  interactivity=interactivity, compiler=compiler, result=result)\n"
     ]
    }
   ],
   "source": [
    "df = pd.read_csv(r'Chicago_Crime_Detective.csv')"
   ]
  },
  {
   "cell_type": "code",
   "execution_count": 3,
   "metadata": {
    "colab": {
     "base_uri": "https://localhost:8080/",
     "height": 195
    },
    "colab_type": "code",
    "id": "5gkLGiRL7m4e",
    "outputId": "5d0dc018-42b2-48dd-83e1-431eb0026cde"
   },
   "outputs": [
    {
     "data": {
      "text/html": [
       "<div>\n",
       "<style scoped>\n",
       "    .dataframe tbody tr th:only-of-type {\n",
       "        vertical-align: middle;\n",
       "    }\n",
       "\n",
       "    .dataframe tbody tr th {\n",
       "        vertical-align: top;\n",
       "    }\n",
       "\n",
       "    .dataframe thead th {\n",
       "        text-align: right;\n",
       "    }\n",
       "</style>\n",
       "<table border=\"1\" class=\"dataframe\">\n",
       "  <thead>\n",
       "    <tr style=\"text-align: right;\">\n",
       "      <th></th>\n",
       "      <th>Unnamed: 0</th>\n",
       "      <th>ID</th>\n",
       "      <th>Date</th>\n",
       "      <th>LocationDescription</th>\n",
       "      <th>Arrest</th>\n",
       "      <th>Domestic</th>\n",
       "      <th>Beat</th>\n",
       "      <th>District</th>\n",
       "      <th>CommunityArea</th>\n",
       "      <th>Year</th>\n",
       "    </tr>\n",
       "  </thead>\n",
       "  <tbody>\n",
       "    <tr>\n",
       "      <th>0</th>\n",
       "      <td>0</td>\n",
       "      <td>8951354</td>\n",
       "      <td>12/31/12 23:15</td>\n",
       "      <td>STREET</td>\n",
       "      <td>False</td>\n",
       "      <td>False</td>\n",
       "      <td>623</td>\n",
       "      <td>6</td>\n",
       "      <td>69</td>\n",
       "      <td>2012</td>\n",
       "    </tr>\n",
       "    <tr>\n",
       "      <th>1</th>\n",
       "      <td>1</td>\n",
       "      <td>8951141</td>\n",
       "      <td>12/31/12 22:00</td>\n",
       "      <td>STREET</td>\n",
       "      <td>False</td>\n",
       "      <td>False</td>\n",
       "      <td>1213</td>\n",
       "      <td>12</td>\n",
       "      <td>24</td>\n",
       "      <td>2012</td>\n",
       "    </tr>\n",
       "    <tr>\n",
       "      <th>2</th>\n",
       "      <td>2</td>\n",
       "      <td>8952745</td>\n",
       "      <td>12/31/12 22:00</td>\n",
       "      <td>RESIDENTIAL YARD (FRONT/BACK)</td>\n",
       "      <td>False</td>\n",
       "      <td>False</td>\n",
       "      <td>1622</td>\n",
       "      <td>16</td>\n",
       "      <td>11</td>\n",
       "      <td>2012</td>\n",
       "    </tr>\n",
       "    <tr>\n",
       "      <th>3</th>\n",
       "      <td>3</td>\n",
       "      <td>8952223</td>\n",
       "      <td>12/31/12 22:00</td>\n",
       "      <td>STREET</td>\n",
       "      <td>False</td>\n",
       "      <td>False</td>\n",
       "      <td>724</td>\n",
       "      <td>7</td>\n",
       "      <td>67</td>\n",
       "      <td>2012</td>\n",
       "    </tr>\n",
       "    <tr>\n",
       "      <th>4</th>\n",
       "      <td>4</td>\n",
       "      <td>8951608</td>\n",
       "      <td>12/31/12 21:30</td>\n",
       "      <td>STREET</td>\n",
       "      <td>False</td>\n",
       "      <td>False</td>\n",
       "      <td>211</td>\n",
       "      <td>2</td>\n",
       "      <td>35</td>\n",
       "      <td>2012</td>\n",
       "    </tr>\n",
       "  </tbody>\n",
       "</table>\n",
       "</div>"
      ],
      "text/plain": [
       "   Unnamed: 0       ID            Date  ... District  CommunityArea  Year\n",
       "0           0  8951354  12/31/12 23:15  ...        6             69  2012\n",
       "1           1  8951141  12/31/12 22:00  ...       12             24  2012\n",
       "2           2  8952745  12/31/12 22:00  ...       16             11  2012\n",
       "3           3  8952223  12/31/12 22:00  ...        7             67  2012\n",
       "4           4  8951608  12/31/12 21:30  ...        2             35  2012\n",
       "\n",
       "[5 rows x 10 columns]"
      ]
     },
     "execution_count": 3,
     "metadata": {
      "tags": []
     },
     "output_type": "execute_result"
    }
   ],
   "source": [
    "df.head()"
   ]
  },
  {
   "cell_type": "code",
   "execution_count": 4,
   "metadata": {
    "colab": {
     "base_uri": "https://localhost:8080/",
     "height": 202
    },
    "colab_type": "code",
    "id": "eZukzqzW7shC",
    "outputId": "1e96d097-9702-4105-ef89-5caa3ad6c01c"
   },
   "outputs": [
    {
     "data": {
      "text/plain": [
       "Unnamed: 0              int64\n",
       "ID                      int64\n",
       "Date                   object\n",
       "LocationDescription    object\n",
       "Arrest                   bool\n",
       "Domestic                 bool\n",
       "Beat                    int64\n",
       "District               object\n",
       "CommunityArea          object\n",
       "Year                    int64\n",
       "dtype: object"
      ]
     },
     "execution_count": 4,
     "metadata": {
      "tags": []
     },
     "output_type": "execute_result"
    }
   ],
   "source": [
    "df.dtypes"
   ]
  },
  {
   "cell_type": "code",
   "execution_count": 5,
   "metadata": {
    "colab": {
     "base_uri": "https://localhost:8080/",
     "height": 34
    },
    "colab_type": "code",
    "id": "fToaPV9s7uiu",
    "outputId": "7364e35d-be42-41bc-8b31-befd61308b73"
   },
   "outputs": [
    {
     "data": {
      "text/plain": [
       "(191641, 10)"
      ]
     },
     "execution_count": 5,
     "metadata": {
      "tags": []
     },
     "output_type": "execute_result"
    }
   ],
   "source": [
    "df.shape"
   ]
  },
  {
   "cell_type": "code",
   "execution_count": 6,
   "metadata": {
    "colab": {
     "base_uri": "https://localhost:8080/",
     "height": 202
    },
    "colab_type": "code",
    "id": "nZlTDatE7vlg",
    "outputId": "e9fd2e4c-a835-44a6-9481-1b9dbabee901"
   },
   "outputs": [
    {
     "data": {
      "text/plain": [
       "Unnamed: 0                 0\n",
       "ID                         0\n",
       "Date                       0\n",
       "LocationDescription        0\n",
       "Arrest                     0\n",
       "Domestic                   0\n",
       "Beat                       0\n",
       "District               43052\n",
       "CommunityArea          24603\n",
       "Year                       0\n",
       "dtype: int64"
      ]
     },
     "execution_count": 6,
     "metadata": {
      "tags": []
     },
     "output_type": "execute_result"
    }
   ],
   "source": [
    "df.isnull().sum()"
   ]
  },
  {
   "cell_type": "code",
   "execution_count": 7,
   "metadata": {
    "colab": {
     "base_uri": "https://localhost:8080/",
     "height": 371
    },
    "colab_type": "code",
    "id": "KN_bkNQW7yRS",
    "outputId": "4a14308c-b39b-4071-9811-bb3ff0d204e1"
   },
   "outputs": [
    {
     "data": {
      "text/plain": [
       "<matplotlib.axes._subplots.AxesSubplot at 0x7f081d85f940>"
      ]
     },
     "execution_count": 7,
     "metadata": {
      "tags": []
     },
     "output_type": "execute_result"
    },
    {
     "data": {
      "image/png": "[encoded data removed]",
      "text/plain": [
       "<Figure size 432x288 with 1 Axes>"
      ]
     },
     "metadata": {
      "needs_background": "light",
      "tags": []
     },
     "output_type": "display_data"
    }
   ],
   "source": [
    "sns.heatmap(df.isnull(),yticklabels=False,cbar=False)"
   ]
  },
  {
   "cell_type": "code",
   "execution_count": 8,
   "metadata": {
    "colab": {},
    "colab_type": "code",
    "id": "VMz8Rp08704a"
   },
   "outputs": [],
   "source": [
    "df['Arrest']=df.Arrest.replace(True,1)"
   ]
  },
  {
   "cell_type": "code",
   "execution_count": 9,
   "metadata": {
    "colab": {},
    "colab_type": "code",
    "id": "MSknncSm8G99"
   },
   "outputs": [],
   "source": [
    "df['Arrest']=df.Arrest.replace(False,0)"
   ]
  },
  {
   "cell_type": "code",
   "execution_count": 10,
   "metadata": {
    "colab": {},
    "colab_type": "code",
    "id": "te825PU-8KnJ"
   },
   "outputs": [],
   "source": [
    "df['Domestic']=df.Domestic.replace(True,1)"
   ]
  },
  {
   "cell_type": "code",
   "execution_count": 11,
   "metadata": {
    "colab": {},
    "colab_type": "code",
    "id": "iYkVdE8d8OPF"
   },
   "outputs": [],
   "source": [
    "df['Domestic']=df.Domestic.replace(False,0)"
   ]
  },
  {
   "cell_type": "code",
   "execution_count": 12,
   "metadata": {
    "colab": {
     "base_uri": "https://localhost:8080/",
     "height": 195
    },
    "colab_type": "code",
    "id": "yn8PHjXd8RoR",
    "outputId": "a53085a3-cedd-44a9-a44c-d4a7cd63af91"
   },
   "outputs": [
    {
     "data": {
      "text/html": [
       "<div>\n",
       "<style scoped>\n",
       "    .dataframe tbody tr th:only-of-type {\n",
       "        vertical-align: middle;\n",
       "    }\n",
       "\n",
       "    .dataframe tbody tr th {\n",
       "        vertical-align: top;\n",
       "    }\n",
       "\n",
       "    .dataframe thead th {\n",
       "        text-align: right;\n",
       "    }\n",
       "</style>\n",
       "<table border=\"1\" class=\"dataframe\">\n",
       "  <thead>\n",
       "    <tr style=\"text-align: right;\">\n",
       "      <th></th>\n",
       "      <th>Unnamed: 0</th>\n",
       "      <th>ID</th>\n",
       "      <th>Date</th>\n",
       "      <th>LocationDescription</th>\n",
       "      <th>Arrest</th>\n",
       "      <th>Domestic</th>\n",
       "      <th>Beat</th>\n",
       "      <th>District</th>\n",
       "      <th>CommunityArea</th>\n",
       "      <th>Year</th>\n",
       "    </tr>\n",
       "  </thead>\n",
       "  <tbody>\n",
       "    <tr>\n",
       "      <th>0</th>\n",
       "      <td>0</td>\n",
       "      <td>8951354</td>\n",
       "      <td>12/31/12 23:15</td>\n",
       "      <td>STREET</td>\n",
       "      <td>0.0</td>\n",
       "      <td>0.0</td>\n",
       "      <td>623</td>\n",
       "      <td>6</td>\n",
       "      <td>69</td>\n",
       "      <td>2012</td>\n",
       "    </tr>\n",
       "    <tr>\n",
       "      <th>1</th>\n",
       "      <td>1</td>\n",
       "      <td>8951141</td>\n",
       "      <td>12/31/12 22:00</td>\n",
       "      <td>STREET</td>\n",
       "      <td>0.0</td>\n",
       "      <td>0.0</td>\n",
       "      <td>1213</td>\n",
       "      <td>12</td>\n",
       "      <td>24</td>\n",
       "      <td>2012</td>\n",
       "    </tr>\n",
       "    <tr>\n",
       "      <th>2</th>\n",
       "      <td>2</td>\n",
       "      <td>8952745</td>\n",
       "      <td>12/31/12 22:00</td>\n",
       "      <td>RESIDENTIAL YARD (FRONT/BACK)</td>\n",
       "      <td>0.0</td>\n",
       "      <td>0.0</td>\n",
       "      <td>1622</td>\n",
       "      <td>16</td>\n",
       "      <td>11</td>\n",
       "      <td>2012</td>\n",
       "    </tr>\n",
       "    <tr>\n",
       "      <th>3</th>\n",
       "      <td>3</td>\n",
       "      <td>8952223</td>\n",
       "      <td>12/31/12 22:00</td>\n",
       "      <td>STREET</td>\n",
       "      <td>0.0</td>\n",
       "      <td>0.0</td>\n",
       "      <td>724</td>\n",
       "      <td>7</td>\n",
       "      <td>67</td>\n",
       "      <td>2012</td>\n",
       "    </tr>\n",
       "    <tr>\n",
       "      <th>4</th>\n",
       "      <td>4</td>\n",
       "      <td>8951608</td>\n",
       "      <td>12/31/12 21:30</td>\n",
       "      <td>STREET</td>\n",
       "      <td>0.0</td>\n",
       "      <td>0.0</td>\n",
       "      <td>211</td>\n",
       "      <td>2</td>\n",
       "      <td>35</td>\n",
       "      <td>2012</td>\n",
       "    </tr>\n",
       "  </tbody>\n",
       "</table>\n",
       "</div>"
      ],
      "text/plain": [
       "   Unnamed: 0       ID            Date  ... District  CommunityArea  Year\n",
       "0           0  8951354  12/31/12 23:15  ...        6             69  2012\n",
       "1           1  8951141  12/31/12 22:00  ...       12             24  2012\n",
       "2           2  8952745  12/31/12 22:00  ...       16             11  2012\n",
       "3           3  8952223  12/31/12 22:00  ...        7             67  2012\n",
       "4           4  8951608  12/31/12 21:30  ...        2             35  2012\n",
       "\n",
       "[5 rows x 10 columns]"
      ]
     },
     "execution_count": 12,
     "metadata": {
      "tags": []
     },
     "output_type": "execute_result"
    }
   ],
   "source": [
    "df.head()"
   ]
  },
  {
   "cell_type": "code",
   "execution_count": 13,
   "metadata": {
    "colab": {
     "base_uri": "https://localhost:8080/",
     "height": 1000
    },
    "colab_type": "code",
    "id": "PG4qUG4V8UAW",
    "outputId": "6746cda9-2d6c-4cf1-b919-83f919efb06f"
   },
   "outputs": [
    {
     "name": "stdout",
     "output_type": "stream",
     "text": [
      "0 STREET\n",
      "1 RESIDENTIAL YARD (FRONT/BACK)\n",
      "2 GAS STATION\n",
      "3 PARKING LOT/GARAGE(NON.RESID.)\n",
      "4 VEHICLE NON-COMMERCIAL\n",
      "5 CTA GARAGE / OTHER PROPERTY\n",
      "6 RESIDENCE-GARAGE\n",
      "7 OTHER\n",
      "8 ALLEY\n",
      "9 SPORTS ARENA/STADIUM\n",
      "10 VACANT LOT/LAND\n",
      "11 RESIDENCE\n",
      "12 SCHOOL, PUBLIC, GROUNDS\n",
      "13 DRIVEWAY - RESIDENTIAL\n",
      "14 POLICE FACILITY/VEH PARKING LOT\n",
      "15 SIDEWALK\n",
      "16 APARTMENT\n",
      "17 VEHICLE-COMMERCIAL\n",
      "18 AIRPORT VENDING ESTABLISHMENT\n",
      "19 BAR OR TAVERN\n",
      "20 PARK PROPERTY\n",
      "21 HIGHWAY/EXPRESSWAY\n",
      "22 COLLEGE/UNIVERSITY GROUNDS\n",
      "23 SMALL RETAIL STORE\n",
      "24 CAR WASH\n",
      "25 FACTORY/MANUFACTURING BUILDING\n",
      "26 RESTAURANT\n",
      "27 FIRE STATION\n",
      "28 CHA PARKING LOT/GROUNDS\n",
      "29 AIRPORT EXTERIOR - NON-SECURE AREA\n",
      "30 CTA TRAIN\n",
      "31 GROCERY FOOD STORE\n",
      "32 AIRPORT PARKING LOT\n",
      "33 MOVIE HOUSE/THEATER\n",
      "34 TAVERN/LIQUOR STORE\n",
      "35 GOVERNMENT BUILDING/PROPERTY\n",
      "36 NURSING HOME/RETIREMENT HOME\n",
      "37 AIRPORT/AIRCRAFT\n",
      "38 HOTEL/MOTEL\n",
      "39 CHURCH/SYNAGOGUE/PLACE OF WORSHIP\n",
      "40 CONSTRUCTION SITE\n",
      "41 COMMERCIAL / BUSINESS OFFICE\n",
      "42 SCHOOL, PUBLIC, BUILDING\n",
      "43 DEPARTMENT STORE\n",
      "44 WAREHOUSE\n",
      "45 HOSPITAL BUILDING/GROUNDS\n",
      "46 RESIDENCE PORCH/HALLWAY\n",
      "47 AIRPORT EXTERIOR - SECURE AREA\n",
      "48 TAXICAB\n",
      "49 CHA APARTMENT\n",
      "50 SCHOOL, PRIVATE, GROUNDS\n",
      "51 CONVENIENCE STORE\n",
      "52 AIRPORT BUILDING NON-TERMINAL - NON-SECURE AREA\n",
      "53 BANK\n",
      "54 OTHER RAILROAD PROP / TRAIN DEPOT\n",
      "55 MEDICAL/DENTAL OFFICE\n",
      "56 DRUG STORE\n",
      "57 NEWSSTAND\n",
      "58 AIRPORT BUILDING NON-TERMINAL - SECURE AREA\n",
      "59 OTHER COMMERCIAL TRANSPORTATION\n",
      "60 AIRPORT TERMINAL UPPER LEVEL - NON-SECURE AREA\n",
      "61 LIBRARY\n",
      "62 ATHLETIC CLUB\n",
      "63 FOREST PRESERVE\n",
      "64 BRIDGE\n",
      "65 SAVINGS AND LOAN\n",
      "66 DAY CARE CENTER\n",
      "67 ABANDONED BUILDING\n",
      "68 CURRENCY EXCHANGE\n",
      "69 SCHOOL, PRIVATE, BUILDING\n",
      "70 COLLEGE/UNIVERSITY RESIDENCE HALL\n",
      "71 BARBERSHOP\n",
      "72 BOWLING ALLEY\n",
      "73 JAIL / LOCK-UP FACILITY\n",
      "74 LAKEFRONT/WATERFRONT/RIVERBANK\n",
      "75 APPLIANCE STORE\n",
      "76 ANIMAL HOSPITAL\n",
      "77 CLEANING STORE\n"
     ]
    }
   ],
   "source": [
    "p = df.LocationDescription.unique()\n",
    "for index,i in enumerate(p):\n",
    "    print(index,i)"
   ]
  },
  {
   "cell_type": "code",
   "execution_count": 14,
   "metadata": {
    "colab": {},
    "colab_type": "code",
    "id": "-YUit84R8bvI"
   },
   "outputs": [],
   "source": [
    "#to convert LocationDescription into integer\n",
    "p = df.LocationDescription.unique()\n",
    "for index,i in enumerate(p):\n",
    "    df['LocationDescription']=df.LocationDescription.replace(i,index)"
   ]
  },
  {
   "cell_type": "code",
   "execution_count": 15,
   "metadata": {
    "colab": {
     "base_uri": "https://localhost:8080/",
     "height": 101
    },
    "colab_type": "code",
    "id": "-3m0wrls8heF",
    "outputId": "9e086e55-12c0-4a28-d7f3-05b44a4d81d1"
   },
   "outputs": [
    {
     "data": {
      "text/plain": [
       "array([ 0,  1,  2,  3,  4,  5,  6,  7,  8,  9, 10, 11, 12, 13, 14, 15, 16,\n",
       "       17, 18, 19, 20, 21, 22, 23, 24, 25, 26, 27, 28, 29, 30, 31, 32, 33,\n",
       "       34, 35, 36, 37, 38, 39, 40, 41, 42, 43, 44, 45, 46, 47, 48, 49, 50,\n",
       "       51, 52, 53, 54, 55, 56, 57, 58, 59, 60, 61, 62, 63, 64, 65, 66, 67,\n",
       "       68, 69, 70, 71, 72, 73, 74, 75, 76, 77])"
      ]
     },
     "execution_count": 15,
     "metadata": {
      "tags": []
     },
     "output_type": "execute_result"
    }
   ],
   "source": [
    "df.LocationDescription.unique()"
   ]
  },
  {
   "cell_type": "code",
   "execution_count": 16,
   "metadata": {
    "colab": {
     "base_uri": "https://localhost:8080/",
     "height": 195
    },
    "colab_type": "code",
    "id": "mGNQKqCz8jng",
    "outputId": "4bfe3670-6ef0-4120-fcdf-e55bd32a4088"
   },
   "outputs": [
    {
     "data": {
      "text/html": [
       "<div>\n",
       "<style scoped>\n",
       "    .dataframe tbody tr th:only-of-type {\n",
       "        vertical-align: middle;\n",
       "    }\n",
       "\n",
       "    .dataframe tbody tr th {\n",
       "        vertical-align: top;\n",
       "    }\n",
       "\n",
       "    .dataframe thead th {\n",
       "        text-align: right;\n",
       "    }\n",
       "</style>\n",
       "<table border=\"1\" class=\"dataframe\">\n",
       "  <thead>\n",
       "    <tr style=\"text-align: right;\">\n",
       "      <th></th>\n",
       "      <th>Unnamed: 0</th>\n",
       "      <th>ID</th>\n",
       "      <th>Date</th>\n",
       "      <th>LocationDescription</th>\n",
       "      <th>Arrest</th>\n",
       "      <th>Domestic</th>\n",
       "      <th>Beat</th>\n",
       "      <th>District</th>\n",
       "      <th>CommunityArea</th>\n",
       "      <th>Year</th>\n",
       "    </tr>\n",
       "  </thead>\n",
       "  <tbody>\n",
       "    <tr>\n",
       "      <th>0</th>\n",
       "      <td>0</td>\n",
       "      <td>8951354</td>\n",
       "      <td>12/31/12 23:15</td>\n",
       "      <td>0</td>\n",
       "      <td>0.0</td>\n",
       "      <td>0.0</td>\n",
       "      <td>623</td>\n",
       "      <td>6</td>\n",
       "      <td>69</td>\n",
       "      <td>2012</td>\n",
       "    </tr>\n",
       "    <tr>\n",
       "      <th>1</th>\n",
       "      <td>1</td>\n",
       "      <td>8951141</td>\n",
       "      <td>12/31/12 22:00</td>\n",
       "      <td>0</td>\n",
       "      <td>0.0</td>\n",
       "      <td>0.0</td>\n",
       "      <td>1213</td>\n",
       "      <td>12</td>\n",
       "      <td>24</td>\n",
       "      <td>2012</td>\n",
       "    </tr>\n",
       "    <tr>\n",
       "      <th>2</th>\n",
       "      <td>2</td>\n",
       "      <td>8952745</td>\n",
       "      <td>12/31/12 22:00</td>\n",
       "      <td>1</td>\n",
       "      <td>0.0</td>\n",
       "      <td>0.0</td>\n",
       "      <td>1622</td>\n",
       "      <td>16</td>\n",
       "      <td>11</td>\n",
       "      <td>2012</td>\n",
       "    </tr>\n",
       "    <tr>\n",
       "      <th>3</th>\n",
       "      <td>3</td>\n",
       "      <td>8952223</td>\n",
       "      <td>12/31/12 22:00</td>\n",
       "      <td>0</td>\n",
       "      <td>0.0</td>\n",
       "      <td>0.0</td>\n",
       "      <td>724</td>\n",
       "      <td>7</td>\n",
       "      <td>67</td>\n",
       "      <td>2012</td>\n",
       "    </tr>\n",
       "    <tr>\n",
       "      <th>4</th>\n",
       "      <td>4</td>\n",
       "      <td>8951608</td>\n",
       "      <td>12/31/12 21:30</td>\n",
       "      <td>0</td>\n",
       "      <td>0.0</td>\n",
       "      <td>0.0</td>\n",
       "      <td>211</td>\n",
       "      <td>2</td>\n",
       "      <td>35</td>\n",
       "      <td>2012</td>\n",
       "    </tr>\n",
       "  </tbody>\n",
       "</table>\n",
       "</div>"
      ],
      "text/plain": [
       "   Unnamed: 0       ID            Date  ...  District  CommunityArea  Year\n",
       "0           0  8951354  12/31/12 23:15  ...         6             69  2012\n",
       "1           1  8951141  12/31/12 22:00  ...        12             24  2012\n",
       "2           2  8952745  12/31/12 22:00  ...        16             11  2012\n",
       "3           3  8952223  12/31/12 22:00  ...         7             67  2012\n",
       "4           4  8951608  12/31/12 21:30  ...         2             35  2012\n",
       "\n",
       "[5 rows x 10 columns]"
      ]
     },
     "execution_count": 16,
     "metadata": {
      "tags": []
     },
     "output_type": "execute_result"
    }
   ],
   "source": [
    "df.head()"
   ]
  },
  {
   "cell_type": "code",
   "execution_count": 17,
   "metadata": {
    "colab": {
     "base_uri": "https://localhost:8080/",
     "height": 218
    },
    "colab_type": "code",
    "id": "_segT_dl8nOa",
    "outputId": "aef66ed6-d872-4450-d9d6-690afc3e19c9"
   },
   "outputs": [
    {
     "data": {
      "text/plain": [
       "0     156564\n",
       "3      14852\n",
       "7       4573\n",
       "8       2308\n",
       "2       2111\n",
       "       ...  \n",
       "57         1\n",
       "76         1\n",
       "73         1\n",
       "47         1\n",
       "75         1\n",
       "Name: LocationDescription, Length: 78, dtype: int64"
      ]
     },
     "execution_count": 17,
     "metadata": {
      "tags": []
     },
     "output_type": "execute_result"
    }
   ],
   "source": [
    "#to count the crime in LocationDescription area i.e., Gas Station, Street, etc\n",
    "p = df.LocationDescription.value_counts()\n",
    "p"
   ]
  },
  {
   "cell_type": "code",
   "execution_count": 18,
   "metadata": {
    "colab": {
     "base_uri": "https://localhost:8080/",
     "height": 202
    },
    "colab_type": "code",
    "id": "drVnp4YI8p6V",
    "outputId": "94224f3b-ed5a-480e-9d6c-7ae3ec6ff43b"
   },
   "outputs": [
    {
     "data": {
      "text/plain": [
       "10       985\n",
       "6       1176\n",
       "11      1302\n",
       "1       1536\n",
       "13      1675\n",
       "2       2111\n",
       "8       2308\n",
       "7       4573\n",
       "3      14852\n",
       "0     156564\n",
       "Name: LocationDescription, dtype: int64"
      ]
     },
     "execution_count": 18,
     "metadata": {
      "tags": []
     },
     "output_type": "execute_result"
    }
   ],
   "source": [
    "# to find the locations with maximum no. of crime\n",
    "p.sort_values().tail(10)"
   ]
  },
  {
   "cell_type": "code",
   "execution_count": 19,
   "metadata": {
    "colab": {
     "base_uri": "https://localhost:8080/",
     "height": 34
    },
    "colab_type": "code",
    "id": "dDF6_Kce8thg",
    "outputId": "f6ab5d7f-c5ed-49ed-ebfa-f9ae80475794"
   },
   "outputs": [
    {
     "data": {
      "text/plain": [
       "177510"
      ]
     },
     "execution_count": 19,
     "metadata": {
      "tags": []
     },
     "output_type": "execute_result"
    }
   ],
   "source": [
    "# to find locations that are the top five locations for motor vehicle thefts, excluding the \"Other\" category\n",
    "p.sort_values().tail(6).sum()-p[7]"
   ]
  },
  {
   "cell_type": "code",
   "execution_count": 20,
   "metadata": {
    "colab": {
     "base_uri": "https://localhost:8080/",
     "height": 34
    },
    "colab_type": "code",
    "id": "RT6iCS7l8v06",
    "outputId": "f347219c-f0ed-4dfe-c9dc-b2ac5010fa66"
   },
   "outputs": [
    {
     "data": {
      "text/plain": [
       "(2111, 2308)"
      ]
     },
     "execution_count": 20,
     "metadata": {
      "tags": []
     },
     "output_type": "execute_result"
    }
   ],
   "source": [
    "p[2],p[8]"
   ]
  },
  {
   "cell_type": "code",
   "execution_count": 21,
   "metadata": {
    "colab": {
     "base_uri": "https://localhost:8080/",
     "height": 34
    },
    "colab_type": "code",
    "id": "Z0DF01vR9cth",
    "outputId": "edd12dce-2d41-4409-f571-f5136779fec0"
   },
   "outputs": [
    {
     "data": {
      "text/plain": [
       "156564"
      ]
     },
     "execution_count": 21,
     "metadata": {
      "tags": []
     },
     "output_type": "execute_result"
    }
   ],
   "source": [
    "p.max()"
   ]
  },
  {
   "cell_type": "code",
   "execution_count": 22,
   "metadata": {
    "colab": {
     "base_uri": "https://localhost:8080/",
     "height": 34
    },
    "colab_type": "code",
    "id": "NdbIIQ249f3L",
    "outputId": "017bfbe1-aed2-416c-8c98-6d194c589bbf"
   },
   "outputs": [
    {
     "name": "stdout",
     "output_type": "stream",
     "text": [
      "8\n"
     ]
    }
   ],
   "source": [
    "i=0\n",
    "while i<78:\n",
    "    if p[i]==2308:\n",
    "        print(i)\n",
    "    i=i+1"
   ]
  },
  {
   "cell_type": "code",
   "execution_count": 23,
   "metadata": {
    "colab": {
     "base_uri": "https://localhost:8080/",
     "height": 432
    },
    "colab_type": "code",
    "id": "XLvCgqI89h-s",
    "outputId": "9bb24c27-584e-46a6-882e-e7dad09cbdf8"
   },
   "outputs": [
    {
     "data": {
      "text/plain": [
       "<matplotlib.axes._subplots.AxesSubplot at 0x7f0849b28da0>"
      ]
     },
     "execution_count": 23,
     "metadata": {
      "tags": []
     },
     "output_type": "execute_result"
    },
    {
     "data": {
      "image/png": "[encoded data removed]",
      "text/plain": [
       "<Figure size 1440x504 with 1 Axes>"
      ]
     },
     "metadata": {
      "needs_background": "light",
      "tags": []
     },
     "output_type": "display_data"
    }
   ],
   "source": [
    "# to plot the graph for finding which location is responsible for maximum theft\n",
    "# plotting for LocationDescription\n",
    "l = df.LocationDescription\n",
    "plt.figure(figsize=(20, 7))\n",
    "sns.countplot(x=l)"
   ]
  },
  {
   "cell_type": "code",
   "execution_count": 24,
   "metadata": {
    "colab": {},
    "colab_type": "code",
    "id": "FdXyNgM_9kiB"
   },
   "outputs": [],
   "source": [
    "# to find number of arrest\n",
    "i=0\n",
    "a=[]\n",
    "b=[]\n",
    "p = df.Arrest\n",
    "for i in p:\n",
    "    if i==1:\n",
    "        a.append(i)\n",
    "    else:\n",
    "        b.append(i)"
   ]
  },
  {
   "cell_type": "code",
   "execution_count": 25,
   "metadata": {
    "colab": {
     "base_uri": "https://localhost:8080/",
     "height": 34
    },
    "colab_type": "code",
    "id": "LhElvWBm9uvn",
    "outputId": "e8c5ad5f-f513-4adc-b73a-c3874561f995"
   },
   "outputs": [
    {
     "data": {
      "text/plain": [
       "15536"
      ]
     },
     "execution_count": 25,
     "metadata": {
      "tags": []
     },
     "output_type": "execute_result"
    }
   ],
   "source": [
    "len(a)"
   ]
  },
  {
   "cell_type": "code",
   "execution_count": 26,
   "metadata": {
    "colab": {
     "base_uri": "https://localhost:8080/",
     "height": 34
    },
    "colab_type": "code",
    "id": "0Aa_Njul9xAn",
    "outputId": "0d1f927b-37ea-4c8e-f4d2-f539575be684"
   },
   "outputs": [
    {
     "data": {
      "text/plain": [
       "176105"
      ]
     },
     "execution_count": 26,
     "metadata": {
      "tags": []
     },
     "output_type": "execute_result"
    }
   ],
   "source": [
    "len(b)"
   ]
  },
  {
   "cell_type": "code",
   "execution_count": 27,
   "metadata": {
    "colab": {
     "base_uri": "https://localhost:8080/",
     "height": 282
    },
    "colab_type": "code",
    "id": "5WpRaPeY98LE",
    "outputId": "19b732cf-76dc-48a2-99dd-fca9a35dd8ad"
   },
   "outputs": [
    {
     "data": {
      "text/plain": [
       "<matplotlib.axes._subplots.AxesSubplot at 0x7f081946fa20>"
      ]
     },
     "execution_count": 27,
     "metadata": {
      "tags": []
     },
     "output_type": "execute_result"
    },
    {
     "data": {
      "image/png": "[encoded data removed]",
      "text/plain": [
       "<Figure size 432x288 with 1 Axes>"
      ]
     },
     "metadata": {
      "needs_background": "light",
      "tags": []
     },
     "output_type": "display_data"
    }
   ],
   "source": [
    "df['Year'].value_counts().sort_index().plot()"
   ]
  },
  {
   "cell_type": "code",
   "execution_count": 28,
   "metadata": {
    "colab": {
     "base_uri": "https://localhost:8080/",
     "height": 351
    },
    "colab_type": "code",
    "id": "B97O3O8o9yGv",
    "outputId": "61cc128e-5914-4f65-d05f-f1d25df220b0"
   },
   "outputs": [
    {
     "data": {
      "text/plain": [
       "<matplotlib.axes._subplots.AxesSubplot at 0x7f08193df780>"
      ]
     },
     "execution_count": 28,
     "metadata": {
      "tags": []
     },
     "output_type": "execute_result"
    },
    {
     "data": {
      "image/png": "[encoded data removed]",
      "text/plain": [
       "<Figure size 720x360 with 1 Axes>"
      ]
     },
     "metadata": {
      "needs_background": "light",
      "tags": []
     },
     "output_type": "display_data"
    }
   ],
   "source": [
    "j=df.Year\n",
    "plt.figure(figsize=(10,5))\n",
    "sns.countplot(x=j)"
   ]
  },
  {
   "cell_type": "code",
   "execution_count": 29,
   "metadata": {
    "colab": {
     "base_uri": "https://localhost:8080/",
     "height": 235
    },
    "colab_type": "code",
    "id": "PSLKbV0G92py",
    "outputId": "b81bda7e-9436-4887-ed77-f7c3232e3b97"
   },
   "outputs": [
    {
     "data": {
      "text/plain": [
       "2001    20669\n",
       "2002    18753\n",
       "2004    16862\n",
       "2003    16657\n",
       "2005    16484\n",
       "2006    16098\n",
       "2011    15637\n",
       "2010    15497\n",
       "2008    14445\n",
       "2007    14280\n",
       "2012    14092\n",
       "2009    12167\n",
       "Name: Year, dtype: int64"
      ]
     },
     "execution_count": 29,
     "metadata": {
      "tags": []
     },
     "output_type": "execute_result"
    }
   ],
   "source": [
    "# to know the crime committed per year\n",
    "df['Year'].value_counts()"
   ]
  },
  {
   "cell_type": "code",
   "execution_count": 30,
   "metadata": {
    "colab": {},
    "colab_type": "code",
    "id": "WgIlSDHj-AMZ"
   },
   "outputs": [],
   "source": [
    "df['Date'] = pd.to_datetime(df.Date)"
   ]
  },
  {
   "cell_type": "code",
   "execution_count": 31,
   "metadata": {
    "colab": {},
    "colab_type": "code",
    "id": "KYBSIvSQ-CSY"
   },
   "outputs": [],
   "source": [
    "df['Weekday'] = df['Date'].dt.day_name()"
   ]
  },
  {
   "cell_type": "code",
   "execution_count": 32,
   "metadata": {
    "colab": {},
    "colab_type": "code",
    "id": "XYXRR8Xr-Hul"
   },
   "outputs": [],
   "source": [
    "df['Month_name'] = df['Date'].dt.month_name()"
   ]
  },
  {
   "cell_type": "code",
   "execution_count": 33,
   "metadata": {
    "colab": {
     "base_uri": "https://localhost:8080/",
     "height": 195
    },
    "colab_type": "code",
    "id": "BRemt2ol_RnD",
    "outputId": "e4eaa463-1ef5-4ad0-de12-55f729dcfd4c"
   },
   "outputs": [
    {
     "data": {
      "text/html": [
       "<div>\n",
       "<style scoped>\n",
       "    .dataframe tbody tr th:only-of-type {\n",
       "        vertical-align: middle;\n",
       "    }\n",
       "\n",
       "    .dataframe tbody tr th {\n",
       "        vertical-align: top;\n",
       "    }\n",
       "\n",
       "    .dataframe thead th {\n",
       "        text-align: right;\n",
       "    }\n",
       "</style>\n",
       "<table border=\"1\" class=\"dataframe\">\n",
       "  <thead>\n",
       "    <tr style=\"text-align: right;\">\n",
       "      <th></th>\n",
       "      <th>Unnamed: 0</th>\n",
       "      <th>ID</th>\n",
       "      <th>Date</th>\n",
       "      <th>LocationDescription</th>\n",
       "      <th>Arrest</th>\n",
       "      <th>Domestic</th>\n",
       "      <th>Beat</th>\n",
       "      <th>District</th>\n",
       "      <th>CommunityArea</th>\n",
       "      <th>Year</th>\n",
       "      <th>Weekday</th>\n",
       "      <th>Month_name</th>\n",
       "    </tr>\n",
       "  </thead>\n",
       "  <tbody>\n",
       "    <tr>\n",
       "      <th>0</th>\n",
       "      <td>0</td>\n",
       "      <td>8951354</td>\n",
       "      <td>2012-12-31 23:15:00</td>\n",
       "      <td>0</td>\n",
       "      <td>0.0</td>\n",
       "      <td>0.0</td>\n",
       "      <td>623</td>\n",
       "      <td>6</td>\n",
       "      <td>69</td>\n",
       "      <td>2012</td>\n",
       "      <td>Monday</td>\n",
       "      <td>December</td>\n",
       "    </tr>\n",
       "    <tr>\n",
       "      <th>1</th>\n",
       "      <td>1</td>\n",
       "      <td>8951141</td>\n",
       "      <td>2012-12-31 22:00:00</td>\n",
       "      <td>0</td>\n",
       "      <td>0.0</td>\n",
       "      <td>0.0</td>\n",
       "      <td>1213</td>\n",
       "      <td>12</td>\n",
       "      <td>24</td>\n",
       "      <td>2012</td>\n",
       "      <td>Monday</td>\n",
       "      <td>December</td>\n",
       "    </tr>\n",
       "    <tr>\n",
       "      <th>2</th>\n",
       "      <td>2</td>\n",
       "      <td>8952745</td>\n",
       "      <td>2012-12-31 22:00:00</td>\n",
       "      <td>1</td>\n",
       "      <td>0.0</td>\n",
       "      <td>0.0</td>\n",
       "      <td>1622</td>\n",
       "      <td>16</td>\n",
       "      <td>11</td>\n",
       "      <td>2012</td>\n",
       "      <td>Monday</td>\n",
       "      <td>December</td>\n",
       "    </tr>\n",
       "    <tr>\n",
       "      <th>3</th>\n",
       "      <td>3</td>\n",
       "      <td>8952223</td>\n",
       "      <td>2012-12-31 22:00:00</td>\n",
       "      <td>0</td>\n",
       "      <td>0.0</td>\n",
       "      <td>0.0</td>\n",
       "      <td>724</td>\n",
       "      <td>7</td>\n",
       "      <td>67</td>\n",
       "      <td>2012</td>\n",
       "      <td>Monday</td>\n",
       "      <td>December</td>\n",
       "    </tr>\n",
       "    <tr>\n",
       "      <th>4</th>\n",
       "      <td>4</td>\n",
       "      <td>8951608</td>\n",
       "      <td>2012-12-31 21:30:00</td>\n",
       "      <td>0</td>\n",
       "      <td>0.0</td>\n",
       "      <td>0.0</td>\n",
       "      <td>211</td>\n",
       "      <td>2</td>\n",
       "      <td>35</td>\n",
       "      <td>2012</td>\n",
       "      <td>Monday</td>\n",
       "      <td>December</td>\n",
       "    </tr>\n",
       "  </tbody>\n",
       "</table>\n",
       "</div>"
      ],
      "text/plain": [
       "   Unnamed: 0       ID                Date  ...  Year  Weekday  Month_name\n",
       "0           0  8951354 2012-12-31 23:15:00  ...  2012   Monday    December\n",
       "1           1  8951141 2012-12-31 22:00:00  ...  2012   Monday    December\n",
       "2           2  8952745 2012-12-31 22:00:00  ...  2012   Monday    December\n",
       "3           3  8952223 2012-12-31 22:00:00  ...  2012   Monday    December\n",
       "4           4  8951608 2012-12-31 21:30:00  ...  2012   Monday    December\n",
       "\n",
       "[5 rows x 12 columns]"
      ]
     },
     "execution_count": 33,
     "metadata": {
      "tags": []
     },
     "output_type": "execute_result"
    }
   ],
   "source": [
    "df.head()"
   ]
  },
  {
   "cell_type": "code",
   "execution_count": 34,
   "metadata": {
    "colab": {
     "base_uri": "https://localhost:8080/",
     "height": 151
    },
    "colab_type": "code",
    "id": "KxIRVem8_Z3y",
    "outputId": "9d11d936-2285-4bf6-d581-d260ad0fa238"
   },
   "outputs": [
    {
     "data": {
      "text/plain": [
       "Friday       29284\n",
       "Wednesday    27416\n",
       "Monday       27397\n",
       "Thursday     27319\n",
       "Saturday     27118\n",
       "Tuesday      26791\n",
       "Sunday       26316\n",
       "Name: Weekday, dtype: int64"
      ]
     },
     "execution_count": 34,
     "metadata": {
      "tags": []
     },
     "output_type": "execute_result"
    }
   ],
   "source": [
    "# to know the total number of crimes per weekday\n",
    "df.Weekday.value_counts()"
   ]
  },
  {
   "cell_type": "code",
   "execution_count": 35,
   "metadata": {
    "colab": {
     "base_uri": "https://localhost:8080/",
     "height": 351
    },
    "colab_type": "code",
    "id": "7PbXXP69_g6D",
    "outputId": "1e40d9c9-4141-40f6-b326-6e601ea0beb6"
   },
   "outputs": [
    {
     "data": {
      "text/plain": [
       "<matplotlib.axes._subplots.AxesSubplot at 0x7f0817d65dd8>"
      ]
     },
     "execution_count": 35,
     "metadata": {
      "tags": []
     },
     "output_type": "execute_result"
    },
    {
     "data": {
      "image/png": "[encoded data removed]",
      "text/plain": [
       "<Figure size 720x360 with 1 Axes>"
      ]
     },
     "metadata": {
      "needs_background": "light",
      "tags": []
     },
     "output_type": "display_data"
    }
   ],
   "source": [
    "w = df.Weekday\n",
    "plt.figure(figsize=(10,5))\n",
    "sns.countplot(x=w)"
   ]
  },
  {
   "cell_type": "code",
   "execution_count": 36,
   "metadata": {
    "colab": {
     "base_uri": "https://localhost:8080/",
     "height": 235
    },
    "colab_type": "code",
    "id": "VDxWV1kB_uY3",
    "outputId": "c5552375-3843-46d4-960f-7b04758fef62"
   },
   "outputs": [
    {
     "data": {
      "text/plain": [
       "October      17086\n",
       "July         16801\n",
       "August       16572\n",
       "December     16426\n",
       "November     16063\n",
       "September    16060\n",
       "January      16047\n",
       "May          16035\n",
       "June         16002\n",
       "March        15758\n",
       "April        15280\n",
       "February     13511\n",
       "Name: Month_name, dtype: int64"
      ]
     },
     "execution_count": 36,
     "metadata": {
      "tags": []
     },
     "output_type": "execute_result"
    }
   ],
   "source": [
    "# to know the total number of crimes per month\n",
    "df.Month_name.value_counts()"
   ]
  },
  {
   "cell_type": "code",
   "execution_count": 37,
   "metadata": {
    "colab": {
     "base_uri": "https://localhost:8080/",
     "height": 352
    },
    "colab_type": "code",
    "id": "iw0iAwMYAMBg",
    "outputId": "a00398c9-52c3-4a5c-bfcd-d27df1f2779e"
   },
   "outputs": [
    {
     "data": {
      "text/plain": [
       "<matplotlib.axes._subplots.AxesSubplot at 0x7f0817d1aa58>"
      ]
     },
     "execution_count": 37,
     "metadata": {
      "tags": []
     },
     "output_type": "execute_result"
    },
    {
     "data": {
      "image/png": "[encoded data removed]",
      "text/plain": [
       "<Figure size 720x360 with 1 Axes>"
      ]
     },
     "metadata": {
      "needs_background": "light",
      "tags": []
     },
     "output_type": "display_data"
    }
   ],
   "source": [
    "m = df.Month_name\n",
    "plt.figure(figsize=(10,5))\n",
    "sns.countplot(x=m)"
   ]
  },
  {
   "cell_type": "code",
   "execution_count": 38,
   "metadata": {
    "colab": {
     "base_uri": "https://localhost:8080/",
     "height": 252
    },
    "colab_type": "code",
    "id": "OMoQ9kSSAz9N",
    "outputId": "18e4bdf2-1944-43cf-88e7-08985f2f21dc"
   },
   "outputs": [
    {
     "data": {
      "text/plain": [
       "Year\n",
       "2001    2152.0\n",
       "2002    2115.0\n",
       "2003    1798.0\n",
       "2004    1693.0\n",
       "2005    1528.0\n",
       "2006    1302.0\n",
       "2007    1212.0\n",
       "2008    1020.0\n",
       "2009     840.0\n",
       "2010     701.0\n",
       "2011     625.0\n",
       "2012     550.0\n",
       "Name: Arrest, dtype: float64"
      ]
     },
     "execution_count": 38,
     "metadata": {
      "tags": []
     },
     "output_type": "execute_result"
    }
   ],
   "source": [
    "# total Arrest made every year\n",
    "df.groupby('Year')['Arrest'].sum()"
   ]
  },
  {
   "cell_type": "code",
   "execution_count": 39,
   "metadata": {
    "colab": {},
    "colab_type": "code",
    "id": "qJo10qR2CLze"
   },
   "outputs": [],
   "source": [
    "p = df['Year'].value_counts()\n",
    "u = df.groupby('Year')['Arrest'].sum()"
   ]
  },
  {
   "cell_type": "code",
   "execution_count": 40,
   "metadata": {
    "colab": {
     "base_uri": "https://localhost:8080/",
     "height": 34
    },
    "colab_type": "code",
    "id": "AKASw5OfCi8D",
    "outputId": "1968baf5-a3fd-44e3-8fc3-1fcedfc25e20"
   },
   "outputs": [
    {
     "data": {
      "text/plain": [
       "0.10411727708161982"
      ]
     },
     "execution_count": 40,
     "metadata": {
      "tags": []
     },
     "output_type": "execute_result"
    }
   ],
   "source": [
    "# For what proportion of motor vehicle thefts in 2001 was an arrest made\n",
    "l = p[2001]\n",
    "v = u[2001]/l\n",
    "v"
   ]
  },
  {
   "cell_type": "code",
   "execution_count": 41,
   "metadata": {
    "colab": {
     "base_uri": "https://localhost:8080/",
     "height": 34
    },
    "colab_type": "code",
    "id": "iItMiQ_-DHwG",
    "outputId": "e7d8de3c-c2a2-41e4-a59d-7224dfff1f77"
   },
   "outputs": [
    {
     "data": {
      "text/plain": [
       "0.08487394957983194"
      ]
     },
     "execution_count": 41,
     "metadata": {
      "tags": []
     },
     "output_type": "execute_result"
    }
   ],
   "source": [
    "# For what proportion of motor vehicle thefts in 2007 was an arrest made\n",
    "l = p[2007]\n",
    "v = u[2007]/l\n",
    "v"
   ]
  },
  {
   "cell_type": "code",
   "execution_count": 42,
   "metadata": {
    "colab": {
     "base_uri": "https://localhost:8080/",
     "height": 351
    },
    "colab_type": "code",
    "id": "m3vxjYJfDUHW",
    "outputId": "668b5984-0ef2-40bc-ee62-abeefef63d23"
   },
   "outputs": [
    {
     "data": {
      "text/plain": [
       "<matplotlib.axes._subplots.AxesSubplot at 0x7f0819918278>"
      ]
     },
     "execution_count": 42,
     "metadata": {
      "tags": []
     },
     "output_type": "execute_result"
    },
    {
     "data": {
      "image/png": "[encoded data removed]",
      "text/plain": [
       "<Figure size 720x360 with 1 Axes>"
      ]
     },
     "metadata": {
      "needs_background": "light",
      "tags": []
     },
     "output_type": "display_data"
    }
   ],
   "source": [
    "# Year wise arrest and no arrest distribution\n",
    "plt.figure(figsize=(10,5))\n",
    "sns.countplot(x='Year', hue='Arrest', data=df)"
   ]
  },
  {
   "cell_type": "code",
   "execution_count": 43,
   "metadata": {
    "colab": {
     "base_uri": "https://localhost:8080/",
     "height": 168
    },
    "colab_type": "code",
    "id": "O_bjGeFZDuws",
    "outputId": "a137cbd0-157f-4f59-cbd4-2496e9be6211"
   },
   "outputs": [
    {
     "data": {
      "text/plain": [
       "Weekday\n",
       "Friday       2370.0\n",
       "Monday       2176.0\n",
       "Saturday     2255.0\n",
       "Sunday       2330.0\n",
       "Thursday     2087.0\n",
       "Tuesday      2108.0\n",
       "Wednesday    2210.0\n",
       "Name: Arrest, dtype: float64"
      ]
     },
     "execution_count": 43,
     "metadata": {
      "tags": []
     },
     "output_type": "execute_result"
    }
   ],
   "source": [
    "#count of total arrest made each day\n",
    "df.groupby('Weekday')['Arrest'].sum()"
   ]
  },
  {
   "cell_type": "code",
   "execution_count": 44,
   "metadata": {
    "colab": {
     "base_uri": "https://localhost:8080/",
     "height": 151
    },
    "colab_type": "code",
    "id": "PNHknUT6EDqV",
    "outputId": "c472648d-ba5b-4c66-e439-2bc5f1bdf004"
   },
   "outputs": [
    {
     "data": {
      "text/plain": [
       "Friday       29284\n",
       "Wednesday    27416\n",
       "Monday       27397\n",
       "Thursday     27319\n",
       "Saturday     27118\n",
       "Tuesday      26791\n",
       "Sunday       26316\n",
       "Name: Weekday, dtype: int64"
      ]
     },
     "execution_count": 44,
     "metadata": {
      "tags": []
     },
     "output_type": "execute_result"
    }
   ],
   "source": [
    "#No. of crimes committed every day\n",
    "df['Weekday'].value_counts()"
   ]
  },
  {
   "cell_type": "code",
   "execution_count": 45,
   "metadata": {
    "colab": {
     "base_uri": "https://localhost:8080/",
     "height": 351
    },
    "colab_type": "code",
    "id": "8u0QhMh3Eckx",
    "outputId": "c80ce1e4-73b6-4f3c-e287-3ac990091fe0"
   },
   "outputs": [
    {
     "data": {
      "text/plain": [
       "<matplotlib.axes._subplots.AxesSubplot at 0x7f0817d26710>"
      ]
     },
     "execution_count": 45,
     "metadata": {
      "tags": []
     },
     "output_type": "execute_result"
    },
    {
     "data": {
      "image/png": "[encoded data removed]",
      "text/plain": [
       "<Figure size 720x360 with 1 Axes>"
      ]
     },
     "metadata": {
      "needs_background": "light",
      "tags": []
     },
     "output_type": "display_data"
    }
   ],
   "source": [
    "# Weekday wise arrest and no arrest distribution\n",
    "plt.figure(figsize=(10,5))\n",
    "sns.countplot(x='Weekday', hue='Arrest', data=df)"
   ]
  },
  {
   "cell_type": "code",
   "execution_count": 46,
   "metadata": {
    "colab": {
     "base_uri": "https://localhost:8080/",
     "height": 252
    },
    "colab_type": "code",
    "id": "2a7SHwcZEqGC",
    "outputId": "9009dab9-b3fb-4882-874f-ed344e6f3f26"
   },
   "outputs": [
    {
     "data": {
      "text/plain": [
       "Month_name\n",
       "April        1252.0\n",
       "August       1329.0\n",
       "December     1397.0\n",
       "February     1238.0\n",
       "January      1435.0\n",
       "July         1324.0\n",
       "June         1230.0\n",
       "March        1298.0\n",
       "May          1187.0\n",
       "November     1256.0\n",
       "October      1342.0\n",
       "September    1248.0\n",
       "Name: Arrest, dtype: float64"
      ]
     },
     "execution_count": 46,
     "metadata": {
      "tags": []
     },
     "output_type": "execute_result"
    }
   ],
   "source": [
    "#count of total arrest made every month\n",
    "df.groupby('Month_name')['Arrest'].sum()"
   ]
  },
  {
   "cell_type": "code",
   "execution_count": 47,
   "metadata": {
    "colab": {
     "base_uri": "https://localhost:8080/",
     "height": 352
    },
    "colab_type": "code",
    "id": "odZ1sNUIE727",
    "outputId": "2d411556-0b7b-45a5-8ece-0fc6b1561883"
   },
   "outputs": [
    {
     "data": {
      "text/plain": [
       "<matplotlib.axes._subplots.AxesSubplot at 0x7f0817b0e6a0>"
      ]
     },
     "execution_count": 47,
     "metadata": {
      "tags": []
     },
     "output_type": "execute_result"
    },
    {
     "data": {
      "image/png": "[encoded data removed]",
      "text/plain": [
       "<Figure size 720x360 with 1 Axes>"
      ]
     },
     "metadata": {
      "needs_background": "light",
      "tags": []
     },
     "output_type": "display_data"
    }
   ],
   "source": [
    "# Month wise arrest and no arrest distribution\n",
    "plt.figure(figsize=(10,5))\n",
    "sns.countplot(x='Month_name', hue='Arrest', data=df)"
   ]
  },
  {
   "cell_type": "code",
   "execution_count": 48,
   "metadata": {
    "colab": {
     "base_uri": "https://localhost:8080/",
     "height": 235
    },
    "colab_type": "code",
    "id": "EmsAaFqTFiFw",
    "outputId": "a1eeb7ae-44df-40d9-a678-54454f5959aa"
   },
   "outputs": [
    {
     "data": {
      "text/plain": [
       "Beat\n",
       "111      33.0\n",
       "112      18.0\n",
       "113      12.0\n",
       "114       0.0\n",
       "121       1.0\n",
       "        ...  \n",
       "2531     65.0\n",
       "2532     91.0\n",
       "2533     80.0\n",
       "2534    110.0\n",
       "2535     94.0\n",
       "Name: Arrest, Length: 300, dtype: float64"
      ]
     },
     "execution_count": 48,
     "metadata": {
      "tags": []
     },
     "output_type": "execute_result"
    }
   ],
   "source": [
    "#Total no. of arrest made on Beat\n",
    "a=df.groupby('Beat')['Arrest'].sum()\n",
    "a"
   ]
  },
  {
   "cell_type": "code",
   "execution_count": 49,
   "metadata": {
    "colab": {
     "base_uri": "https://localhost:8080/",
     "height": 34
    },
    "colab_type": "code",
    "id": "MZy2_rnBF0pi",
    "outputId": "bcc61cef-3470-44b0-ab58-76554e22f289"
   },
   "outputs": [
    {
     "data": {
      "text/plain": [
       "94.0"
      ]
     },
     "execution_count": 49,
     "metadata": {
      "tags": []
     },
     "output_type": "execute_result"
    }
   ],
   "source": [
    "a[2535]"
   ]
  },
  {
   "cell_type": "code",
   "execution_count": 50,
   "metadata": {
    "colab": {
     "base_uri": "https://localhost:8080/",
     "height": 34
    },
    "colab_type": "code",
    "id": "8pfW880-F3v4",
    "outputId": "9f3a6f3e-c535-44f1-a80c-e9417d4edefb"
   },
   "outputs": [
    {
     "data": {
      "text/plain": [
       "12.0"
      ]
     },
     "execution_count": 50,
     "metadata": {
      "tags": []
     },
     "output_type": "execute_result"
    }
   ],
   "source": [
    "a[113]"
   ]
  },
  {
   "cell_type": "code",
   "execution_count": 51,
   "metadata": {
    "colab": {},
    "colab_type": "code",
    "id": "fyqjpL9dF49e"
   },
   "outputs": [],
   "source": [
    "#Sum of Arrest made on LocationDescription Segment\n",
    "m = df.groupby('LocationDescription')['Arrest'].sum()"
   ]
  },
  {
   "cell_type": "code",
   "execution_count": 52,
   "metadata": {
    "colab": {
     "base_uri": "https://localhost:8080/",
     "height": 235
    },
    "colab_type": "code",
    "id": "EMYTpUBUGGex",
    "outputId": "c811fc88-7b40-4260-87b2-8eae058b82a4"
   },
   "outputs": [
    {
     "data": {
      "text/plain": [
       "LocationDescription\n",
       "0     11595.0\n",
       "1        71.0\n",
       "2       439.0\n",
       "3      1603.0\n",
       "4        59.0\n",
       "       ...   \n",
       "73        0.0\n",
       "74        1.0\n",
       "75        0.0\n",
       "76        0.0\n",
       "77        0.0\n",
       "Name: Arrest, Length: 78, dtype: float64"
      ]
     },
     "execution_count": 52,
     "metadata": {
      "tags": []
     },
     "output_type": "execute_result"
    }
   ],
   "source": [
    "m"
   ]
  },
  {
   "cell_type": "code",
   "execution_count": 53,
   "metadata": {
    "colab": {
     "base_uri": "https://localhost:8080/",
     "height": 34
    },
    "colab_type": "code",
    "id": "-hEksaI6GHrS",
    "outputId": "f4c4295f-410b-405f-832f-9750bdcada91"
   },
   "outputs": [
    {
     "data": {
      "text/plain": [
       "59.0"
      ]
     },
     "execution_count": 53,
     "metadata": {
      "tags": []
     },
     "output_type": "execute_result"
    }
   ],
   "source": [
    "m[4]"
   ]
  },
  {
   "cell_type": "code",
   "execution_count": 54,
   "metadata": {
    "colab": {
     "base_uri": "https://localhost:8080/",
     "height": 34
    },
    "colab_type": "code",
    "id": "IpLz725iGLS7",
    "outputId": "3e6d8ab3-2ee7-40b4-bc39-13904d928923"
   },
   "outputs": [
    {
     "data": {
      "text/plain": [
       "0.0"
      ]
     },
     "execution_count": 54,
     "metadata": {
      "tags": []
     },
     "output_type": "execute_result"
    }
   ],
   "source": [
    "m[77]"
   ]
  },
  {
   "cell_type": "code",
   "execution_count": 55,
   "metadata": {
    "colab": {
     "base_uri": "https://localhost:8080/",
     "height": 235
    },
    "colab_type": "code",
    "id": "HQujrN0tGMDL",
    "outputId": "f47ea221-2880-4cf6-98b9-44dba73f20eb"
   },
   "outputs": [
    {
     "data": {
      "text/plain": [
       "Unnamed: 0                      int64\n",
       "ID                              int64\n",
       "Date                   datetime64[ns]\n",
       "LocationDescription             int64\n",
       "Arrest                        float64\n",
       "Domestic                      float64\n",
       "Beat                            int64\n",
       "District                       object\n",
       "CommunityArea                  object\n",
       "Year                            int64\n",
       "Weekday                        object\n",
       "Month_name                     object\n",
       "dtype: object"
      ]
     },
     "execution_count": 55,
     "metadata": {
      "tags": []
     },
     "output_type": "execute_result"
    }
   ],
   "source": [
    "df.dtypes"
   ]
  },
  {
   "cell_type": "code",
   "execution_count": 56,
   "metadata": {
    "colab": {},
    "colab_type": "code",
    "id": "dlLbzXOzGQex"
   },
   "outputs": [],
   "source": [
    "df['CommunityArea'] = pd.to_numeric(df['CommunityArea'],errors='coerce')"
   ]
  },
  {
   "cell_type": "code",
   "execution_count": 57,
   "metadata": {
    "colab": {},
    "colab_type": "code",
    "id": "-9K7pSmHGf-F"
   },
   "outputs": [],
   "source": [
    "df['District'] = pd.to_numeric(df['District'],errors='coerce')"
   ]
  },
  {
   "cell_type": "code",
   "execution_count": 58,
   "metadata": {
    "colab": {
     "base_uri": "https://localhost:8080/",
     "height": 623
    },
    "colab_type": "code",
    "id": "3wYsUcdTGoyf",
    "outputId": "449f57f6-e238-4f8f-aa69-b08b57149a06"
   },
   "outputs": [
    {
     "data": {
      "text/plain": [
       "<matplotlib.axes._subplots.AxesSubplot at 0x7f0817abaf60>"
      ]
     },
     "execution_count": 58,
     "metadata": {
      "tags": []
     },
     "output_type": "execute_result"
    },
    {
     "data": {
      "image/png": "[encoded data removed]",
      "text/plain": [
       "<Figure size 720x720 with 1 Axes>"
      ]
     },
     "metadata": {
      "needs_background": "light",
      "tags": []
     },
     "output_type": "display_data"
    }
   ],
   "source": [
    "#to replace all the nan value in CommunityArea with mean values\n",
    "plt.figure(figsize=(10,10))\n",
    "sns.boxplot(y='CommunityArea',x='Year',data=df)"
   ]
  },
  {
   "cell_type": "code",
   "execution_count": 59,
   "metadata": {
    "colab": {},
    "colab_type": "code",
    "id": "8Si4Tx9ZG_dk"
   },
   "outputs": [],
   "source": [
    "def com_area(cols):\n",
    "    CommunityArea = cols[0]\n",
    "    Year = cols[1]\n",
    "    if pd.isnull(CommunityArea):\n",
    "        if Year == 2001:\n",
    "            return 34\n",
    "        elif Year == 2002:\n",
    "            return 33\n",
    "        elif Year == 2003:\n",
    "            return 34\n",
    "        elif Year == 2004:\n",
    "            return 34\n",
    "        elif Year == 2005:\n",
    "            return 37\n",
    "        elif Year == 2006:\n",
    "            return 38\n",
    "        elif Year == 2007:\n",
    "            return 32\n",
    "        elif Year == 2008:\n",
    "            return 34\n",
    "        elif Year == 2009:\n",
    "            return 30\n",
    "        elif Year == 2010:\n",
    "            return 31\n",
    "        elif Year == 2011:\n",
    "            return 29\n",
    "        else:\n",
    "            return 24\n",
    "    else:\n",
    "        return CommunityArea"
   ]
  },
  {
   "cell_type": "code",
   "execution_count": 60,
   "metadata": {
    "colab": {},
    "colab_type": "code",
    "id": "haeipKTEJjnE"
   },
   "outputs": [],
   "source": [
    "df['CommunityArea'] = df[['CommunityArea', 'Year']].apply(com_area,axis=1)"
   ]
  },
  {
   "cell_type": "code",
   "execution_count": 61,
   "metadata": {
    "colab": {},
    "colab_type": "code",
    "id": "RmMNu7-pJy-Z"
   },
   "outputs": [],
   "source": [
    "g = df['CommunityArea']"
   ]
  },
  {
   "cell_type": "code",
   "execution_count": 62,
   "metadata": {
    "colab": {
     "base_uri": "https://localhost:8080/",
     "height": 34
    },
    "colab_type": "code",
    "id": "PpH-z4cJJ4nE",
    "outputId": "a6f3dcde-e7f4-494b-9e9f-3030f7662fa7"
   },
   "outputs": [
    {
     "data": {
      "text/plain": [
       "24.0"
      ]
     },
     "execution_count": 62,
     "metadata": {
      "tags": []
     },
     "output_type": "execute_result"
    }
   ],
   "source": [
    "g[1]"
   ]
  },
  {
   "cell_type": "code",
   "execution_count": 63,
   "metadata": {
    "colab": {
     "base_uri": "https://localhost:8080/",
     "height": 402
    },
    "colab_type": "code",
    "id": "ho5pYL2EJ5nc",
    "outputId": "0f364e1d-01b7-438d-b90c-ff008cc11126"
   },
   "outputs": [
    {
     "data": {
      "text/html": [
       "<div>\n",
       "<style scoped>\n",
       "    .dataframe tbody tr th:only-of-type {\n",
       "        vertical-align: middle;\n",
       "    }\n",
       "\n",
       "    .dataframe tbody tr th {\n",
       "        vertical-align: top;\n",
       "    }\n",
       "\n",
       "    .dataframe thead th {\n",
       "        text-align: right;\n",
       "    }\n",
       "</style>\n",
       "<table border=\"1\" class=\"dataframe\">\n",
       "  <thead>\n",
       "    <tr style=\"text-align: right;\">\n",
       "      <th></th>\n",
       "      <th>CommunityArea</th>\n",
       "      <th>Year</th>\n",
       "    </tr>\n",
       "  </thead>\n",
       "  <tbody>\n",
       "    <tr>\n",
       "      <th>0</th>\n",
       "      <td>69.0</td>\n",
       "      <td>2012</td>\n",
       "    </tr>\n",
       "    <tr>\n",
       "      <th>1</th>\n",
       "      <td>24.0</td>\n",
       "      <td>2012</td>\n",
       "    </tr>\n",
       "    <tr>\n",
       "      <th>2</th>\n",
       "      <td>11.0</td>\n",
       "      <td>2012</td>\n",
       "    </tr>\n",
       "    <tr>\n",
       "      <th>3</th>\n",
       "      <td>67.0</td>\n",
       "      <td>2012</td>\n",
       "    </tr>\n",
       "    <tr>\n",
       "      <th>4</th>\n",
       "      <td>35.0</td>\n",
       "      <td>2012</td>\n",
       "    </tr>\n",
       "    <tr>\n",
       "      <th>...</th>\n",
       "      <td>...</td>\n",
       "      <td>...</td>\n",
       "    </tr>\n",
       "    <tr>\n",
       "      <th>191636</th>\n",
       "      <td>34.0</td>\n",
       "      <td>2001</td>\n",
       "    </tr>\n",
       "    <tr>\n",
       "      <th>191637</th>\n",
       "      <td>34.0</td>\n",
       "      <td>2001</td>\n",
       "    </tr>\n",
       "    <tr>\n",
       "      <th>191638</th>\n",
       "      <td>34.0</td>\n",
       "      <td>2001</td>\n",
       "    </tr>\n",
       "    <tr>\n",
       "      <th>191639</th>\n",
       "      <td>34.0</td>\n",
       "      <td>2001</td>\n",
       "    </tr>\n",
       "    <tr>\n",
       "      <th>191640</th>\n",
       "      <td>34.0</td>\n",
       "      <td>2001</td>\n",
       "    </tr>\n",
       "  </tbody>\n",
       "</table>\n",
       "<p>191641 rows × 2 columns</p>\n",
       "</div>"
      ],
      "text/plain": [
       "        CommunityArea  Year\n",
       "0                69.0  2012\n",
       "1                24.0  2012\n",
       "2                11.0  2012\n",
       "3                67.0  2012\n",
       "4                35.0  2012\n",
       "...               ...   ...\n",
       "191636           34.0  2001\n",
       "191637           34.0  2001\n",
       "191638           34.0  2001\n",
       "191639           34.0  2001\n",
       "191640           34.0  2001\n",
       "\n",
       "[191641 rows x 2 columns]"
      ]
     },
     "execution_count": 63,
     "metadata": {
      "tags": []
     },
     "output_type": "execute_result"
    }
   ],
   "source": [
    "df[['CommunityArea', 'Year']]"
   ]
  },
  {
   "cell_type": "code",
   "execution_count": 64,
   "metadata": {
    "colab": {
     "base_uri": "https://localhost:8080/",
     "height": 371
    },
    "colab_type": "code",
    "id": "XsoxXc5nJ_uk",
    "outputId": "92d79ea9-bcf8-4f95-a2b3-a425e845f44f"
   },
   "outputs": [
    {
     "data": {
      "text/plain": [
       "<matplotlib.axes._subplots.AxesSubplot at 0x7f0817c38748>"
      ]
     },
     "execution_count": 64,
     "metadata": {
      "tags": []
     },
     "output_type": "execute_result"
    },
    {
     "data": {
      "image/png": "[encoded data removed]",
      "text/plain": [
       "<Figure size 432x288 with 1 Axes>"
      ]
     },
     "metadata": {
      "needs_background": "light",
      "tags": []
     },
     "output_type": "display_data"
    }
   ],
   "source": [
    "sns.heatmap(df.isnull(),yticklabels = False,cbar = False)"
   ]
  },
  {
   "cell_type": "code",
   "execution_count": 65,
   "metadata": {
    "colab": {},
    "colab_type": "code",
    "id": "r7yw0ZlIKLNy"
   },
   "outputs": [],
   "source": [
    "df.drop('District',axis=1,inplace=True)"
   ]
  },
  {
   "cell_type": "code",
   "execution_count": 66,
   "metadata": {
    "colab": {
     "base_uri": "https://localhost:8080/",
     "height": 371
    },
    "colab_type": "code",
    "id": "SSForxpnKR1B",
    "outputId": "bc84fcad-a82b-455e-acc5-016c5b803045"
   },
   "outputs": [
    {
     "data": {
      "text/plain": [
       "<matplotlib.axes._subplots.AxesSubplot at 0x7f0817aba9b0>"
      ]
     },
     "execution_count": 66,
     "metadata": {
      "tags": []
     },
     "output_type": "execute_result"
    },
    {
     "data": {
      "image/png": "[encoded data removed]",
      "text/plain": [
       "<Figure size 432x288 with 1 Axes>"
      ]
     },
     "metadata": {
      "needs_background": "light",
      "tags": []
     },
     "output_type": "display_data"
    }
   ],
   "source": [
    "sns.heatmap(df.isnull(),yticklabels=False,cbar=False)"
   ]
  },
  {
   "cell_type": "code",
   "execution_count": 67,
   "metadata": {
    "colab": {
     "base_uri": "https://localhost:8080/",
     "height": 168
    },
    "colab_type": "code",
    "id": "fGWahM9uKap8",
    "outputId": "10515a42-36f6-4488-c228-bc178354158e"
   },
   "outputs": [
    {
     "data": {
      "text/plain": [
       "Unnamed: 0               95820.0\n",
       "ID                     4762956.0\n",
       "LocationDescription          0.0\n",
       "Arrest                       0.0\n",
       "Domestic                     0.0\n",
       "Beat                      1121.0\n",
       "CommunityArea               34.0\n",
       "Year                      2006.0\n",
       "dtype: float64"
      ]
     },
     "execution_count": 67,
     "metadata": {
      "tags": []
     },
     "output_type": "execute_result"
    }
   ],
   "source": [
    "df.median()"
   ]
  },
  {
   "cell_type": "code",
   "execution_count": 68,
   "metadata": {
    "colab": {
     "base_uri": "https://localhost:8080/",
     "height": 34
    },
    "colab_type": "code",
    "id": "WplBrX6fKewL",
    "outputId": "cbe7a030-adb5-4b60-aaf2-d76b1e9bc6a1"
   },
   "outputs": [
    {
     "data": {
      "text/plain": [
       "'May'"
      ]
     },
     "execution_count": 68,
     "metadata": {
      "tags": []
     },
     "output_type": "execute_result"
    }
   ],
   "source": [
    "df.Month_name[95820]"
   ]
  },
  {
   "cell_type": "code",
   "execution_count": 69,
   "metadata": {
    "colab": {},
    "colab_type": "code",
    "id": "JHxKUpAFKkW9"
   },
   "outputs": [],
   "source": [
    "e = df.groupby('LocationDescription')['Weekday'].value_counts()"
   ]
  },
  {
   "cell_type": "code",
   "execution_count": 70,
   "metadata": {
    "colab": {
     "base_uri": "https://localhost:8080/",
     "height": 235
    },
    "colab_type": "code",
    "id": "luYNq2xhKyO8",
    "outputId": "611f02d7-033c-4fb6-e26b-21f665609e78"
   },
   "outputs": [
    {
     "data": {
      "text/plain": [
       "LocationDescription  Weekday  \n",
       "0                    Friday       23773\n",
       "                     Wednesday    22371\n",
       "                     Monday       22305\n",
       "                     Thursday     22296\n",
       "                     Saturday     22175\n",
       "                                  ...  \n",
       "75                   Saturday         1\n",
       "76                   Wednesday        1\n",
       "77                   Monday           1\n",
       "                     Thursday         1\n",
       "                     Wednesday        1\n",
       "Name: Weekday, Length: 413, dtype: int64"
      ]
     },
     "execution_count": 70,
     "metadata": {
      "tags": []
     },
     "output_type": "execute_result"
    }
   ],
   "source": [
    "e"
   ]
  },
  {
   "cell_type": "code",
   "execution_count": 71,
   "metadata": {
    "colab": {
     "base_uri": "https://localhost:8080/",
     "height": 168
    },
    "colab_type": "code",
    "id": "DsOi3vjuKy1N",
    "outputId": "b2613fdd-7555-48e4-bdb1-939d008587bf"
   },
   "outputs": [
    {
     "data": {
      "text/plain": [
       "Weekday\n",
       "Friday       23773\n",
       "Wednesday    22371\n",
       "Monday       22305\n",
       "Thursday     22296\n",
       "Saturday     22175\n",
       "Tuesday      21888\n",
       "Sunday       21756\n",
       "Name: Weekday, dtype: int64"
      ]
     },
     "execution_count": 71,
     "metadata": {
      "tags": []
     },
     "output_type": "execute_result"
    }
   ],
   "source": [
    "e[0]"
   ]
  },
  {
   "cell_type": "code",
   "execution_count": 72,
   "metadata": {
    "colab": {
     "base_uri": "https://localhost:8080/",
     "height": 67
    },
    "colab_type": "code",
    "id": "PyJdy92bK0yG",
    "outputId": "f229352b-0d9a-4ce9-97b9-ea3a2d050cf2"
   },
   "outputs": [
    {
     "data": {
      "text/plain": [
       "Weekday\n",
       "Saturday    1\n",
       "Name: Weekday, dtype: int64"
      ]
     },
     "execution_count": 72,
     "metadata": {
      "tags": []
     },
     "output_type": "execute_result"
    }
   ],
   "source": [
    "e[75]"
   ]
  },
  {
   "cell_type": "code",
   "execution_count": 73,
   "metadata": {
    "colab": {
     "base_uri": "https://localhost:8080/",
     "height": 168
    },
    "colab_type": "code",
    "id": "kaaaqV5SK6nL",
    "outputId": "2d12721c-206c-412f-9f21-69c8c0e8d128"
   },
   "outputs": [
    {
     "data": {
      "text/plain": [
       "Weekday\n",
       "Saturday     338\n",
       "Sunday       336\n",
       "Friday       332\n",
       "Thursday     282\n",
       "Monday       280\n",
       "Wednesday    273\n",
       "Tuesday      270\n",
       "Name: Weekday, dtype: int64"
      ]
     },
     "execution_count": 73,
     "metadata": {
      "tags": []
     },
     "output_type": "execute_result"
    }
   ],
   "source": [
    "e[2]"
   ]
  }
 ],
 "metadata": {
  "colab": {
   "name": "Chicago Crime  Detection.ipynb",
   "provenance": []
  },
  "kernelspec": {
   "display_name": "Python 3",
   "language": "python",
   "name": "python3"
  },
  "language_info": {
   "codemirror_mode": {
    "name": "ipython",
    "version": 3
   },
   "file_extension": ".py",
   "mimetype": "text/x-python",
   "name": "python",
   "nbconvert_exporter": "python",
   "pygments_lexer": "ipython3",
   "version": "3.6.4"
  }
 },
 "nbformat": 4,
 "nbformat_minor": 1
}
